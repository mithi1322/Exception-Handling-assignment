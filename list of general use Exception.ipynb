{
 "cells": [
  {
   "cell_type": "code",
   "execution_count": 4,
   "id": "f6e29476-8638-4183-8b61-299b61adc9d3",
   "metadata": {},
   "outputs": [
    {
     "name": "stdout",
     "output_type": "stream",
     "text": [
      "division by zero\n"
     ]
    }
   ],
   "source": [
    "a=3\n",
    "b=0\n",
    "try:\n",
    "    c=a/b\n",
    "except ZeroDivisionError as e:\n",
    "    print(e)"
   ]
  },
  {
   "cell_type": "code",
   "execution_count": 5,
   "id": "663120cb-f3c8-4474-881e-65ee79f96946",
   "metadata": {},
   "outputs": [
    {
     "name": "stdout",
     "output_type": "stream",
     "text": [
      "invalid literal for int() with base 10: 'Mithilesh'\n"
     ]
    }
   ],
   "source": [
    "try:\n",
    "    int(\"Mithilesh\")\n",
    "except (ValueError,TypeError) as e:\n",
    "    print(e)"
   ]
  },
  {
   "cell_type": "code",
   "execution_count": 6,
   "id": "9d0df9be-bafa-4ffc-9556-87311b57a99a",
   "metadata": {},
   "outputs": [
    {
     "name": "stdout",
     "output_type": "stream",
     "text": [
      "this will be error\n"
     ]
    }
   ],
   "source": [
    "try:\n",
    "    int(\"Mithilesh\")\n",
    "except:\n",
    "    print(\"this will be error\")"
   ]
  },
  {
   "cell_type": "code",
   "execution_count": 10,
   "id": "e56fe495-a84b-4c69-b065-b12b587fe58a",
   "metadata": {},
   "outputs": [
    {
     "name": "stdout",
     "output_type": "stream",
     "text": [
      "No module named 'mithi'\n"
     ]
    }
   ],
   "source": [
    "try:\n",
    "    import mithi\n",
    "except ImportError as e:\n",
    "    print(e)   "
   ]
  },
  {
   "cell_type": "code",
   "execution_count": 11,
   "id": "16e58e81-3d64-4e40-83c9-40d0e440d278",
   "metadata": {},
   "outputs": [
    {
     "name": "stdout",
     "output_type": "stream",
     "text": [
      "'keys2'\n"
     ]
    }
   ],
   "source": [
    "try:\n",
    "    a={\"key\":\"Mithilesh\",1:[1,4,35,63]}\n",
    "    print(a[\"keys2\"])\n",
    "except KeyError as e:\n",
    "    print(e)"
   ]
  },
  {
   "cell_type": "code",
   "execution_count": 13,
   "id": "af378212-bcfa-404d-9e8e-9840e7d42b23",
   "metadata": {},
   "outputs": [
    {
     "name": "stdout",
     "output_type": "stream",
     "text": [
      "'str' object has no attribute 'test'\n"
     ]
    }
   ],
   "source": [
    "try:\n",
    "    \"mithi\".test()\n",
    "except AttributeError as e:\n",
    "    print(e)\n",
    "    "
   ]
  },
  {
   "cell_type": "code",
   "execution_count": 14,
   "id": "124bbd40-039a-404a-a0d2-9f9219b6b27a",
   "metadata": {},
   "outputs": [
    {
     "name": "stdout",
     "output_type": "stream",
     "text": [
      "list index out of range\n"
     ]
    }
   ],
   "source": [
    "try:\n",
    "    l=[1,2,34,5]\n",
    "    print(l[6])\n",
    "except IndexError as e:\n",
    "    print(e)"
   ]
  },
  {
   "cell_type": "code",
   "execution_count": 16,
   "id": "e5f6c234-6fe1-4dc0-ad5e-9d3ddcc8b3cd",
   "metadata": {},
   "outputs": [
    {
     "name": "stdout",
     "output_type": "stream",
     "text": [
      "unsupported operand type(s) for +: 'int' and 'str'\n"
     ]
    }
   ],
   "source": [
    "try:\n",
    "    123+\"mithi\"\n",
    "except TypeError as e:\n",
    "    print(e)\n",
    "    "
   ]
  },
  {
   "cell_type": "code",
   "execution_count": 17,
   "id": "3aaa29b5-3b98-4f6d-9802-1f75aac081e4",
   "metadata": {},
   "outputs": [
    {
     "name": "stdout",
     "output_type": "stream",
     "text": [
      "[Errno 2] No such file or directory: 'test.txt'\n"
     ]
    }
   ],
   "source": [
    "try:\n",
    "    with open(\"test.txt\",'r') as f:\n",
    "        test=f.read()\n",
    "except FileNotFoundError as e:\n",
    "    print(e)"
   ]
  },
  {
   "cell_type": "code",
   "execution_count": 18,
   "id": "9dc0756a-02ba-48b8-93fc-5d7cc83a5048",
   "metadata": {},
   "outputs": [
    {
     "name": "stdout",
     "output_type": "stream",
     "text": [
      "[Errno 2] No such file or directory: 'test.txt'\n"
     ]
    }
   ],
   "source": [
    "try:\n",
    "    with open(\"test.txt\",'r') as f:\n",
    "        test=f.read()\n",
    "except Exception as e:\n",
    "    print(e)\n",
    "except FileNotFoundError as e:\n",
    "    print(\"test\",e)"
   ]
  },
  {
   "cell_type": "code",
   "execution_count": 19,
   "id": "43e8d78d-6be5-4a99-a54d-494491c35ee0",
   "metadata": {},
   "outputs": [],
   "source": [
    "def test(file):\n",
    "    try:\n",
    "        with open(\"test.txt\",'r') as f:\n",
    "            test=f.read()\n",
    "    except Exception as e:\n",
    "        print(e)\n",
    "    except FileNotFoundError as e:\n",
    "        print(\"test\",e)"
   ]
  },
  {
   "cell_type": "code",
   "execution_count": null,
   "id": "f76d26fb-03ed-47aa-b5fc-75832d1b2b29",
   "metadata": {},
   "outputs": [],
   "source": []
  }
 ],
 "metadata": {
  "kernelspec": {
   "display_name": "Python 3 (ipykernel)",
   "language": "python",
   "name": "python3"
  },
  "language_info": {
   "codemirror_mode": {
    "name": "ipython",
    "version": 3
   },
   "file_extension": ".py",
   "mimetype": "text/x-python",
   "name": "python",
   "nbconvert_exporter": "python",
   "pygments_lexer": "ipython3",
   "version": "3.10.8"
  }
 },
 "nbformat": 4,
 "nbformat_minor": 5
}
