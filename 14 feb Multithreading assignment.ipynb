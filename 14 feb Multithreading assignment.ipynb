{
 "cells": [
  {
   "cell_type": "markdown",
   "id": "419595b5-e7d3-4b64-b207-a1c010422f06",
   "metadata": {},
   "source": [
    "Q1. What is multithreading in python? why is it used? Name the module used to handle threads in python."
   ]
  },
  {
   "cell_type": "code",
   "execution_count": 7,
   "id": "523578e8-82db-4638-8d47-e1839fe824c8",
   "metadata": {},
   "outputs": [
    {
     "data": {
      "text/plain": [
       "'Multithreading in Python refers to the concurrent execution of multiple threads of execution within a single process. \\n   Multithreading is used to improve the performance of a program by utilizing the idle time of the CPU. It is also used to handle multiple tasks simultaneously.\\n   The module used to handle threads in Python is called the threading module.'"
      ]
     },
     "execution_count": 7,
     "metadata": {},
     "output_type": "execute_result"
    }
   ],
   "source": [
    "# Answer:\n",
    "\n",
    "'''Multithreading in Python refers to the concurrent execution of multiple threads of execution within a single process. \n",
    "   Multithreading is used to improve the performance of a program by utilizing the idle time of the CPU. It is also used to handle multiple tasks simultaneously.\n",
    "   The module used to handle threads in Python is called the threading module.'''"
   ]
  },
  {
   "cell_type": "markdown",
   "id": "664e266a-2389-47a4-baa9-c40e1a550aa8",
   "metadata": {},
   "source": [
    "Q2. Why threading module used? Write the use of the following functions.\n",
    "\n",
    "    1. activeCount()\n",
    "    2. currentThread()\n",
    "    3. enumerate()\n"
   ]
  },
  {
   "cell_type": "code",
   "execution_count": 8,
   "id": "bd98abf1-2f7e-40d3-a66a-b4977b2df720",
   "metadata": {},
   "outputs": [
    {
     "name": "stdout",
     "output_type": "stream",
     "text": [
      "This is my thread\n",
      "This is my thread\n",
      "Number of active threads: 8\n"
     ]
    },
    {
     "name": "stderr",
     "output_type": "stream",
     "text": [
      "/tmp/ipykernel_1136/354196448.py:15: DeprecationWarning: activeCount() is deprecated, use active_count() instead\n",
      "  print(\"Number of active threads:\", threading.activeCount())\n"
     ]
    }
   ],
   "source": [
    "# Answer:\n",
    "'''The threading module is used in Python to handle threads. It provides a way to create, control, and manage threads in a program.'''\n",
    "\n",
    "# activeCount(): This function returns the number of currently active threads in the program.\n",
    "import threading\n",
    "def my_function():\n",
    "    print(\"This is my thread\")\n",
    "\n",
    "thread1 = threading.Thread(target=my_function)\n",
    "thread2 = threading.Thread(target=my_function)\n",
    "thread1.start()\n",
    "thread2.start()\n",
    "thread1.join()\n",
    "thread2.join()\n",
    "print(\"Number of active threads:\", threading.activeCount())\n"
   ]
  },
  {
   "cell_type": "code",
   "execution_count": 9,
   "id": "d308d911-4e80-43a6-b809-217d7535df7b",
   "metadata": {},
   "outputs": [
    {
     "name": "stdout",
     "output_type": "stream",
     "text": [
      "Current thread: Thread 1\n",
      "Current thread: Thread 2\n"
     ]
    },
    {
     "name": "stderr",
     "output_type": "stream",
     "text": [
      "/tmp/ipykernel_1136/186192862.py:4: DeprecationWarning: currentThread() is deprecated, use current_thread() instead\n",
      "  print(\"Current thread:\", threading.currentThread().getName())\n",
      "/tmp/ipykernel_1136/186192862.py:4: DeprecationWarning: getName() is deprecated, get the name attribute instead\n",
      "  print(\"Current thread:\", threading.currentThread().getName())\n"
     ]
    }
   ],
   "source": [
    "# currentThread(): This function returns a reference to the current thread.\n",
    "import threading\n",
    "def my_function():\n",
    "    print(\"Current thread:\", threading.currentThread().getName())\n",
    "thread1 = threading.Thread(target=my_function, name=\"Thread 1\")\n",
    "thread2 = threading.Thread(target=my_function, name=\"Thread 2\")\n",
    "thread1.start()\n",
    "thread2.start()\n",
    "thread1.join()\n",
    "thread2.join()\n"
   ]
  },
  {
   "cell_type": "code",
   "execution_count": 10,
   "id": "e22df142-e1f9-4f41-8148-daf68486eab7",
   "metadata": {},
   "outputs": [
    {
     "name": "stdout",
     "output_type": "stream",
     "text": [
      "This is my thread\n",
      "This is my thread\n",
      "List of active threads: [<_MainThread(MainThread, started 140353189816128)>, <Thread(IOPub, started daemon 140353119286848)>, <Heartbeat(Heartbeat, started daemon 140353110894144)>, <Thread(Thread-3 (_watch_pipe_fd), started daemon 140352879060544)>, <Thread(Thread-4 (_watch_pipe_fd), started daemon 140352870667840)>, <ControlThread(Control, started daemon 140352862275136)>, <HistorySavingThread(IPythonHistorySavingThread, started 140352853882432)>, <ParentPollerUnix(Thread-2, started daemon 140352845489728)>]\n"
     ]
    }
   ],
   "source": [
    "# enumerate(): This function returns a list of all currently active threads.\n",
    "import threading\n",
    "def my_function():\n",
    "    print(\"This is my thread\")\n",
    "thread1 = threading.Thread(target=my_function)\n",
    "thread2 = threading.Thread(target=my_function)\n",
    "thread1.start()\n",
    "thread2.start()\n",
    "thread1.join()\n",
    "thread2.join()\n",
    "print(\"List of active threads:\", threading.enumerate())\n"
   ]
  },
  {
   "cell_type": "markdown",
   "id": "245ae9a5-24a5-41c7-b454-16e462369f09",
   "metadata": {},
   "source": [
    "3. Explain the following functions.\n",
    "\n",
    "    1. run()\n",
    "    2. start()\n",
    "    3. join()\n",
    "    4. isAlive()\n"
   ]
  },
  {
   "cell_type": "code",
   "execution_count": 11,
   "id": "74edf586-08db-4f76-97d3-9340a4c7f55b",
   "metadata": {},
   "outputs": [
    {
     "data": {
      "text/plain": [
       "'This method returns True if the thread is alive and running, and False otherwise. \\nIt is used to check if a thread is still running or has completed its execution.'"
      ]
     },
     "execution_count": 11,
     "metadata": {},
     "output_type": "execute_result"
    }
   ],
   "source": [
    "# Answer:\n",
    "\n",
    "## run():\n",
    "'''This method is the entry point of a thread. It is called internally by the start() method. \n",
    "It is the method where the code to be executed by the thread is written.'''\n",
    "\n",
    "## start(): \n",
    "'''This method is used to start a thread's activity.\n",
    "It spawns a new thread and calls the run() method to execute the code in that thread.'''\n",
    "\n",
    "## join(): \n",
    "'''This method blocks the calling thread until the thread whose join() method is called completes its execution or until the optional timeout occurs. \n",
    "It is used to wait for a thread to complete its execution before moving to the next step in the program.'''\n",
    "\n",
    "## isAlive(): \n",
    "'''This method returns True if the thread is alive and running, and False otherwise. \n",
    "It is used to check if a thread is still running or has completed its execution.'''"
   ]
  },
  {
   "cell_type": "markdown",
   "id": "d4faf335-4178-4f57-ba85-1e91220c95fe",
   "metadata": {},
   "source": [
    "4. write a python program to create two threads. Thread one must print the list of squares and thread \n",
    "two must print the list of cubes."
   ]
  },
  {
   "cell_type": "code",
   "execution_count": 12,
   "id": "6a46133d-1fda-473c-8cd6-5d4b9d219f22",
   "metadata": {},
   "outputs": [
    {
     "name": "stderr",
     "output_type": "stream",
     "text": [
      "Thread-Squares Square of 1 is 1\n",
      "Thread-Squares Square of 2 is 4\n",
      "Thread-Squares Square of 3 is 9\n",
      "Thread-Cubes Cube of 1 is 1\n",
      "Thread-Squares Square of 4 is 16\n",
      "Thread-Cubes Cube of 2 is 8\n",
      "Thread-Squares Square of 5 is 25\n",
      "Thread-Cubes Cube of 3 is 27\n",
      "Thread-Cubes Cube of 4 is 64\n",
      "Thread-Cubes Cube of 5 is 125\n"
     ]
    }
   ],
   "source": [
    "import logging\n",
    "import threading\n",
    "logging.basicConfig(level=logging.DEBUG, format='%(threadName)-10s %(message)s')\n",
    "def print_squares():\n",
    "    for i in range(1, 6):\n",
    "        logging.debug('Square of {} is {}'.format(i, i*i))\n",
    "def print_cubes():\n",
    "    for i in range(1, 6):\n",
    "        logging.debug('Cube of {} is {}'.format(i, i*i*i))\n",
    "if __name__ == '__main__':\n",
    "    t1 = threading.Thread(target=print_squares, name='Thread-Squares')\n",
    "    t2 = threading.Thread(target=print_cubes, name='Thread-Cubes') \n",
    "    t1.start()\n",
    "    t2.start()   \n",
    "    t1.join()\n",
    "    t2.join()\n"
   ]
  },
  {
   "cell_type": "markdown",
   "id": "d5a0be69-32e9-403b-86a9-8ff89a626f23",
   "metadata": {},
   "source": [
    "5. State advantages and disadvantages of multithreading."
   ]
  },
  {
   "cell_type": "code",
   "execution_count": 13,
   "id": "ae12803c-89d7-4a6c-84d7-44b7253f8938",
   "metadata": {},
   "outputs": [
    {
     "data": {
      "text/plain": [
       "' Complexity: Multithreading can make code more complex and difficult to understand, especially when multiple threads are accessing the same resources.\\n    Synchronization: Multithreading requires careful synchronization of access to shared resources to prevent race conditions and deadlocks.\\n    Debugging: Debugging multithreaded applications can be more difficult than debugging single-threaded applications.'"
      ]
     },
     "execution_count": 13,
     "metadata": {},
     "output_type": "execute_result"
    }
   ],
   "source": [
    "# Answer:\n",
    "\n",
    "#Advantages of Multithreading:\n",
    "''' Improved Performance: Multithreading can improve performance by taking advantage of multiple CPU cores and allowing multiple threads to execute in parallel.\n",
    "    Resource Sharing: Multithreading allows multiple threads to share resources like memory, files, and network connections.'''\n",
    "   \n",
    "#Disadvantages of Multithreading:\n",
    "''' Complexity: Multithreading can make code more complex and difficult to understand, especially when multiple threads are accessing the same resources.\n",
    "    Synchronization: Multithreading requires careful synchronization of access to shared resources to prevent race conditions and deadlocks.\n",
    "    Debugging: Debugging multithreaded applications can be more difficult than debugging single-threaded applications.'''"
   ]
  },
  {
   "cell_type": "markdown",
   "id": "a9c2b428-ec5f-4bf9-9703-32a6a9ec6c64",
   "metadata": {},
   "source": [
    "6. Explain deadlocks and race conditions."
   ]
  },
  {
   "cell_type": "code",
   "execution_count": 14,
   "id": "9afc308a-5c7f-4a58-b0ed-26eaffce841c",
   "metadata": {},
   "outputs": [
    {
     "data": {
      "text/plain": [
       "'A deadlock is a situation where two or more threads are blocked forever, \\nwaiting for each other to release the resources they need to proceed.\\n\\nA race condition is a situation where the behavior of a program depends on the timing of the execution of two or more threads. \\nSpecifically, it occurs when two or more threads access shared resources in a way that can cause unpredictable results.'"
      ]
     },
     "execution_count": 14,
     "metadata": {},
     "output_type": "execute_result"
    }
   ],
   "source": [
    "#Answer:\n",
    "#Deadlocks and race conditions are two common problems that can occur in multithreaded programs.\n",
    "\n",
    "'''A deadlock is a situation where two or more threads are blocked forever, \n",
    "waiting for each other to release the resources they need to proceed.\n",
    "\n",
    "A race condition is a situation where the behavior of a program depends on the timing of the execution of two or more threads. \n",
    "Specifically, it occurs when two or more threads access shared resources in a way that can cause unpredictable results.'''"
   ]
  },
  {
   "cell_type": "code",
   "execution_count": null,
   "id": "7a7b0264-e9f3-486f-9144-997b9a6290a8",
   "metadata": {},
   "outputs": [],
   "source": []
  },
  {
   "cell_type": "code",
   "execution_count": null,
   "id": "cf8f593a-4489-4446-8d8f-957f9ec76480",
   "metadata": {},
   "outputs": [],
   "source": []
  }
 ],
 "metadata": {
  "kernelspec": {
   "display_name": "Python 3 (ipykernel)",
   "language": "python",
   "name": "python3"
  },
  "language_info": {
   "codemirror_mode": {
    "name": "ipython",
    "version": 3
   },
   "file_extension": ".py",
   "mimetype": "text/x-python",
   "name": "python",
   "nbconvert_exporter": "python",
   "pygments_lexer": "ipython3",
   "version": "3.10.8"
  }
 },
 "nbformat": 4,
 "nbformat_minor": 5
}
