{
 "cells": [
  {
   "cell_type": "code",
   "execution_count": 1,
   "id": "90668336-f29b-4d93-8068-a0dd2b6c7008",
   "metadata": {},
   "outputs": [
    {
     "name": "stdout",
     "output_type": "stream",
     "text": [
      "division by zero\n"
     ]
    }
   ],
   "source": [
    "# use always a specific exception\n",
    "try:\n",
    "    10/0\n",
    "except Exception as e:\n",
    "    print(e)\n",
    "    \n",
    "# here in this code Exception use is not for code write specfic error\n"
   ]
  },
  {
   "cell_type": "code",
   "execution_count": 3,
   "id": "9bb283f9-af53-4e0a-bd46-ead61f5d636e",
   "metadata": {},
   "outputs": [
    {
     "name": "stdout",
     "output_type": "stream",
     "text": [
      "division by zero\n"
     ]
    }
   ],
   "source": [
    "try:\n",
    "    10/0\n",
    "except ZeroDivisionError as e:\n",
    "    print(e)"
   ]
  },
  {
   "cell_type": "code",
   "execution_count": 7,
   "id": "655fa60e-0c19-4bcf-9d2f-c06d55181c10",
   "metadata": {},
   "outputs": [
    {
     "name": "stdout",
     "output_type": "stream",
     "text": [
      "i am trying to handle a zerodivision error division by zero\n"
     ]
    }
   ],
   "source": [
    "# print always a proper message\n",
    "try:\n",
    "    10/0\n",
    "except ZeroDivisionError as e:\n",
    "    print(\"i am trying to handle a zerodivision error\",e)"
   ]
  },
  {
   "cell_type": "code",
   "execution_count": 9,
   "id": "6d8e89ae-4a9e-4f40-8fae-275828991487",
   "metadata": {},
   "outputs": [],
   "source": [
    "# always try to logging your error \n",
    "import logging \n",
    "logging.basicConfig(filename=\"error.log\",level=logging.ERROR)\n",
    "try:\n",
    "    10/0\n",
    "except ZeroDivisionError as e:\n",
    "    logging.error(\"i am trying to handle a zerodivisionerror {}\".format(e))"
   ]
  },
  {
   "cell_type": "code",
   "execution_count": 10,
   "id": "a4f53a02-1046-4643-8ee0-daf1039f0db2",
   "metadata": {},
   "outputs": [],
   "source": [
    "# always avoid to write a multiple exception handling\n",
    "try:\n",
    "    10/0\n",
    "except FileNotFoundError as e:\n",
    "    logging.error(\"i am handling file not found {}\".format(e))\n",
    "except AttributeError as e:\n",
    "    logging.error(\"i am handling attribute error {}\".format(e))\n",
    "except ZeroDivisionError as e:\n",
    "    logging.error(\"i am handling zerodivision error {}\".format(e))\n",
    "           "
   ]
  },
  {
   "cell_type": "code",
   "execution_count": 11,
   "id": "d6fa0dd0-9cc2-4d83-a143-d316be565104",
   "metadata": {},
   "outputs": [],
   "source": [
    "# document all the error \n",
    "# cleanup all the resourse\n",
    "try:\n",
    "    with open(\"test.txt\",'w') as f:\n",
    "        f.write(\"this is my data file \")\n",
    "except FileNotFoundError as e :\n",
    "     logging.error(\"i am handling file not found {}\".format(e))\n",
    "finally:\n",
    "    f.close()"
   ]
  },
  {
   "cell_type": "code",
   "execution_count": null,
   "id": "b63ceb7e-435a-4c61-9b9a-c7b9331f662d",
   "metadata": {},
   "outputs": [],
   "source": []
  }
 ],
 "metadata": {
  "kernelspec": {
   "display_name": "Python 3 (ipykernel)",
   "language": "python",
   "name": "python3"
  },
  "language_info": {
   "codemirror_mode": {
    "name": "ipython",
    "version": 3
   },
   "file_extension": ".py",
   "mimetype": "text/x-python",
   "name": "python",
   "nbconvert_exporter": "python",
   "pygments_lexer": "ipython3",
   "version": "3.10.8"
  }
 },
 "nbformat": 4,
 "nbformat_minor": 5
}
