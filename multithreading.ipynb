{
 "cells": [
  {
   "cell_type": "code",
   "execution_count": 1,
   "id": "4bff7271-e0d7-454b-96f2-fa981fe023e4",
   "metadata": {},
   "outputs": [],
   "source": [
    "import threading"
   ]
  },
  {
   "cell_type": "code",
   "execution_count": 3,
   "id": "3d8797dd-af76-406e-9338-d3327adef032",
   "metadata": {},
   "outputs": [],
   "source": [
    "def test(id):\n",
    "    print(\"program start %d\"% id )"
   ]
  },
  {
   "cell_type": "code",
   "execution_count": 4,
   "id": "d2f2ad31-c426-41a7-a3af-b6cab66565a6",
   "metadata": {},
   "outputs": [
    {
     "name": "stdout",
     "output_type": "stream",
     "text": [
      "program start 23\n"
     ]
    }
   ],
   "source": [
    "test(23)"
   ]
  },
  {
   "cell_type": "code",
   "execution_count": 11,
   "id": "2c43ee05-6c0d-47e4-9327-6f0491ccc90b",
   "metadata": {},
   "outputs": [],
   "source": [
    "thread=[threading.Thread(target=test,args=(i,))for i in range(10)]\n"
   ]
  },
  {
   "cell_type": "code",
   "execution_count": 12,
   "id": "959f8ec3-3d96-4272-94d0-ebf97cddc293",
   "metadata": {},
   "outputs": [
    {
     "name": "stdout",
     "output_type": "stream",
     "text": [
      "program start 0\n",
      "program start 1\n",
      "program start 2\n",
      "program start 3\n",
      "program start 4\n",
      "program start 5\n",
      "program start 6\n",
      "program start 7\n",
      "program start 8\n",
      "program start 9\n"
     ]
    }
   ],
   "source": [
    "for t in thread:\n",
    "    t.start()"
   ]
  },
  {
   "cell_type": "code",
   "execution_count": 13,
   "id": "c79364cb-fdda-42e8-8364-8cb5abbfb719",
   "metadata": {},
   "outputs": [
    {
     "data": {
      "text/plain": [
       "[<Thread(Thread-25 (test), stopped 140118341973568)>,\n",
       " <Thread(Thread-26 (test), stopped 140118341973568)>,\n",
       " <Thread(Thread-27 (test), stopped 140118341973568)>,\n",
       " <Thread(Thread-28 (test), stopped 140118341973568)>,\n",
       " <Thread(Thread-29 (test), stopped 140118341973568)>,\n",
       " <Thread(Thread-30 (test), stopped 140118341973568)>,\n",
       " <Thread(Thread-31 (test), stopped 140118341973568)>,\n",
       " <Thread(Thread-32 (test), stopped 140118341973568)>,\n",
       " <Thread(Thread-33 (test), stopped 140118341973568)>,\n",
       " <Thread(Thread-34 (test), stopped 140118341973568)>]"
      ]
     },
     "execution_count": 13,
     "metadata": {},
     "output_type": "execute_result"
    }
   ],
   "source": [
    "thread"
   ]
  },
  {
   "cell_type": "code",
   "execution_count": 14,
   "id": "26e05e53-f4f4-4cb4-a178-4f0205478254",
   "metadata": {},
   "outputs": [
    {
     "data": {
      "text/plain": [
       "140118687858240"
      ]
     },
     "execution_count": 14,
     "metadata": {},
     "output_type": "execute_result"
    }
   ],
   "source": [
    "id(thread)"
   ]
  },
  {
   "cell_type": "markdown",
   "id": "d3d26269-22d2-4fb6-893d-94cc542cc823",
   "metadata": {},
   "source": [
    "fatch data from internet using urllink"
   ]
  },
  {
   "cell_type": "code",
   "execution_count": 15,
   "id": "1a0f80d3-a749-4985-b062-b414523c66ac",
   "metadata": {},
   "outputs": [],
   "source": [
    "import threading\n",
    "import urllib.request\n",
    "\n",
    "def file_download(url,filename):\n",
    "    urllib.request.urlretrieve(url,filename)"
   ]
  },
  {
   "cell_type": "code",
   "execution_count": 16,
   "id": "0422e4b7-7e57-4fe9-a0db-182741d30c57",
   "metadata": {},
   "outputs": [],
   "source": [
    "file_download(\"https://meyerweb.com/eric/tools/dencoder/\",\"test.txt\")"
   ]
  },
  {
   "cell_type": "code",
   "execution_count": 17,
   "id": "fba16556-243d-42a1-b52c-a65c8a8ae322",
   "metadata": {},
   "outputs": [],
   "source": [
    "url_list=[\"https://meyerweb.com/eric/tools/dencoder/\",\"https://developer.mozilla.org/en-US/docs/Web/API/URLSearchParams\",\"https://www.w3schools.com/tags/ref_urlencode.ASP\"]"
   ]
  },
  {
   "cell_type": "code",
   "execution_count": 18,
   "id": "137a3227-a932-4273-a321-58421c69747f",
   "metadata": {},
   "outputs": [
    {
     "data": {
      "text/plain": [
       "['https://meyerweb.com/eric/tools/dencoder/',\n",
       " 'https://developer.mozilla.org/en-US/docs/Web/API/URLSearchParams',\n",
       " 'https://www.w3schools.com/tags/ref_urlencode.ASP']"
      ]
     },
     "execution_count": 18,
     "metadata": {},
     "output_type": "execute_result"
    }
   ],
   "source": [
    "url_list"
   ]
  },
  {
   "cell_type": "code",
   "execution_count": 19,
   "id": "891f7be5-86d2-416a-b586-a4f07f3a0ded",
   "metadata": {},
   "outputs": [],
   "source": [
    "file_name_list=['data1.txt','data2.txt','data3.txt']"
   ]
  },
  {
   "cell_type": "code",
   "execution_count": 22,
   "id": "9c108945-0e12-4c63-ad3f-ccb57cf2fa4e",
   "metadata": {},
   "outputs": [],
   "source": [
    "thread1=[threading.Thread(target=file_download,args=(url_list[i],file_name_list[i])) for i in range(len(url_list))]"
   ]
  },
  {
   "cell_type": "code",
   "execution_count": 23,
   "id": "4bf484a2-6fb6-4697-8ca4-47d3c19617f3",
   "metadata": {},
   "outputs": [
    {
     "data": {
      "text/plain": [
       "[<Thread(Thread-35 (file_download), initial)>,\n",
       " <Thread(Thread-36 (file_download), initial)>,\n",
       " <Thread(Thread-37 (file_download), initial)>]"
      ]
     },
     "execution_count": 23,
     "metadata": {},
     "output_type": "execute_result"
    }
   ],
   "source": [
    "thread1"
   ]
  },
  {
   "cell_type": "code",
   "execution_count": 24,
   "id": "5e3c6d98-7e87-447b-b4dc-3d8d713fb4ef",
   "metadata": {},
   "outputs": [],
   "source": [
    "for i in thread1:\n",
    "    i.start()"
   ]
  },
  {
   "cell_type": "code",
   "execution_count": 25,
   "id": "02d343af-94af-44a8-80a0-116bc34c7e9c",
   "metadata": {},
   "outputs": [],
   "source": [
    "import time\n"
   ]
  },
  {
   "cell_type": "code",
   "execution_count": 27,
   "id": "3583b722-26af-4eea-a385-a0035030ed48",
   "metadata": {},
   "outputs": [],
   "source": [
    "def test1(id):\n",
    "    for i in range(10):\n",
    "        print(\"test1 %d printing %d\"%(id,i))\n",
    "        time.sleep(1)"
   ]
  },
  {
   "cell_type": "code",
   "execution_count": 28,
   "id": "371f1ddc-66d4-4394-aade-7f899cb992a0",
   "metadata": {},
   "outputs": [
    {
     "name": "stdout",
     "output_type": "stream",
     "text": [
      "test1 1 printing 0\n",
      "test1 1 printing 1\n",
      "test1 1 printing 2\n",
      "test1 1 printing 3\n",
      "test1 1 printing 4\n",
      "test1 1 printing 5\n",
      "test1 1 printing 6\n",
      "test1 1 printing 7\n",
      "test1 1 printing 8\n",
      "test1 1 printing 9\n"
     ]
    }
   ],
   "source": [
    "test1(1)"
   ]
  },
  {
   "cell_type": "code",
   "execution_count": 30,
   "id": "84fea1c8-5dda-4e96-99b2-c7b46f2f156b",
   "metadata": {},
   "outputs": [],
   "source": [
    "thread2=[threading.Thread(target=test1,args=(i,)) for i in range (3)]"
   ]
  },
  {
   "cell_type": "code",
   "execution_count": 31,
   "id": "91a405a2-fd62-40ad-8133-016722e69131",
   "metadata": {},
   "outputs": [
    {
     "name": "stdout",
     "output_type": "stream",
     "text": [
      "test1 0 printing 0\n",
      "test1 1 printing 0\n",
      "test1 2 printing 0\n",
      "test1 1 printing 1\n",
      "test1 2 printing 1\n",
      "test1 0 printing 1\n",
      "test1 1 printing 2test1 2 printing 2\n",
      "test1 0 printing 2\n",
      "\n",
      "test1 2 printing 3\n",
      "test1 1 printing 3\n",
      "test1 0 printing 3\n",
      "test1 2 printing 4test1 1 printing 4\n",
      "\n",
      "test1 0 printing 4\n",
      "test1 1 printing 5\n",
      "test1 0 printing 5\n",
      "test1 2 printing 5\n",
      "test1 1 printing 6\n",
      "test1 0 printing 6\n",
      "test1 2 printing 6\n",
      "test1 1 printing 7\n",
      "test1 0 printing 7\n",
      "test1 2 printing 7\n",
      "test1 1 printing 8\n",
      "test1 0 printing 8\n",
      "test1 2 printing 8\n",
      "test1 1 printing 9\n",
      "test1 0 printing 9\n",
      "test1 2 printing 9\n"
     ]
    }
   ],
   "source": [
    "for i in thread2:\n",
    "    i.start()"
   ]
  },
  {
   "cell_type": "code",
   "execution_count": 32,
   "id": "ccf58b0a-19c2-4633-b39a-d7b683e85435",
   "metadata": {},
   "outputs": [],
   "source": [
    "def test1(id):\n",
    "    for i in range(10):\n",
    "        print(\"test1 %d printing %d\"%(id,i))\n",
    "       # time.sleep(1)"
   ]
  },
  {
   "cell_type": "code",
   "execution_count": 33,
   "id": "dec812db-a3f6-4d40-89ef-dfc0f77fecf9",
   "metadata": {},
   "outputs": [],
   "source": [
    "thread2=[threading.Thread(target=test1,args=(i,)) for i in range (3)]"
   ]
  },
  {
   "cell_type": "code",
   "execution_count": 34,
   "id": "d8a5da66-30d2-4761-a606-aa696d406845",
   "metadata": {},
   "outputs": [
    {
     "name": "stdout",
     "output_type": "stream",
     "text": [
      "test1 0 printing 0\n",
      "test1 0 printing 1\n",
      "test1 0 printing 2\n",
      "test1 0 printing 3\n",
      "test1 0 printing 4\n",
      "test1 0 printing 5\n",
      "test1 0 printing 6\n",
      "test1 0 printing 7\n",
      "test1 0 printing 8\n",
      "test1 0 printing 9\n",
      "test1 1 printing 0\n",
      "test1 1 printing 1\n",
      "test1 1 printing 2\n",
      "test1 1 printing 3\n",
      "test1 1 printing 4\n",
      "test1 1 printing 5\n",
      "test1 1 printing 6\n",
      "test1 1 printing 7\n",
      "test1 1 printing 8\n",
      "test1 1 printing 9\n",
      "test1 2 printing 0\n",
      "test1 2 printing 1\n",
      "test1 2 printing 2\n",
      "test1 2 printing 3\n",
      "test1 2 printing 4\n",
      "test1 2 printing 5\n",
      "test1 2 printing 6\n",
      "test1 2 printing 7\n",
      "test1 2 printing 8\n",
      "test1 2 printing 9\n"
     ]
    }
   ],
   "source": [
    "for i in thread2:\n",
    "    i.start()"
   ]
  },
  {
   "cell_type": "code",
   "execution_count": 36,
   "id": "0288fc6f-b8dc-4841-8a69-ca6e9734556d",
   "metadata": {},
   "outputs": [],
   "source": [
    "def test1(id):\n",
    "    for i in range(10):\n",
    "        print(\"test1 %d printing %d %s\"%(id,i,time.ctime()))\n",
    "        time.sleep(1)"
   ]
  },
  {
   "cell_type": "code",
   "execution_count": 37,
   "id": "bdeefede-7fad-45d2-aa49-10de1f1c80b4",
   "metadata": {},
   "outputs": [
    {
     "name": "stdout",
     "output_type": "stream",
     "text": [
      "test1 0 printing 0 Sat Mar 25 10:06:45 2023\n",
      "test1 0 printing 1 Sat Mar 25 10:06:46 2023\n",
      "test1 0 printing 2 Sat Mar 25 10:06:47 2023\n",
      "test1 0 printing 3 Sat Mar 25 10:06:48 2023\n",
      "test1 0 printing 4 Sat Mar 25 10:06:49 2023\n",
      "test1 0 printing 5 Sat Mar 25 10:06:50 2023\n",
      "test1 0 printing 6 Sat Mar 25 10:06:51 2023\n",
      "test1 0 printing 7 Sat Mar 25 10:06:52 2023\n",
      "test1 0 printing 8 Sat Mar 25 10:06:53 2023\n",
      "test1 0 printing 9 Sat Mar 25 10:06:54 2023\n"
     ]
    }
   ],
   "source": [
    "test1(0)"
   ]
  },
  {
   "cell_type": "code",
   "execution_count": 38,
   "id": "8c977995-a2d8-43f6-b78c-70581e1a1033",
   "metadata": {},
   "outputs": [],
   "source": [
    "shared_var=0\n",
    "lock_var=threading.Lock()\n"
   ]
  },
  {
   "cell_type": "code",
   "execution_count": 52,
   "id": "6d90a8f2-2018-4e26-848f-92fc30108246",
   "metadata": {},
   "outputs": [
    {
     "name": "stdout",
     "output_type": "stream",
     "text": [
      "test2 id is 0 has increased the shared variable by 1\n",
      "test2 id is 1 has increased the shared variable by 2\n",
      "test2 id is 2 has increased the shared variable by 3\n"
     ]
    }
   ],
   "source": [
    "shared_var=0\n",
    "lock_var=threading.Lock()\n",
    "def test2(id):\n",
    "    global shared_var\n",
    "    with lock_var:\n",
    "        shared_var=shared_var+1\n",
    "        print(\"test2 id is %d has increased the shared variable by %d\"%(id,shared_var))\n",
    "        time.sleep(1)\n",
    "ther=[threading.Thread(target=test2, args=(i,) ) for i in range(3)]\n",
    "for t in ther:\n",
    "    t.start()"
   ]
  },
  {
   "cell_type": "code",
   "execution_count": null,
   "id": "76682eab-117e-4d38-86d1-ca43cc26570c",
   "metadata": {},
   "outputs": [],
   "source": []
  }
 ],
 "metadata": {
  "kernelspec": {
   "display_name": "Python 3 (ipykernel)",
   "language": "python",
   "name": "python3"
  },
  "language_info": {
   "codemirror_mode": {
    "name": "ipython",
    "version": 3
   },
   "file_extension": ".py",
   "mimetype": "text/x-python",
   "name": "python",
   "nbconvert_exporter": "python",
   "pygments_lexer": "ipython3",
   "version": "3.10.8"
  }
 },
 "nbformat": 4,
 "nbformat_minor": 5
}
