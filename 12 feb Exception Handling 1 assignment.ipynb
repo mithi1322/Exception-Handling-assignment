{
 "cells": [
  {
   "cell_type": "markdown",
   "id": "ec241b68-c06a-492f-8f96-c77b53740cd4",
   "metadata": {},
   "source": [
    "Q1. What is an Exception in python? Write the diffrence between Exceptions and Syntax errors."
   ]
  },
  {
   "cell_type": "code",
   "execution_count": 1,
   "id": "b6297887-4b77-42a8-b837-834283270300",
   "metadata": {},
   "outputs": [],
   "source": [
    "# Answer:\n",
    " \n",
    "    #In Python, an exception is an error that occurs during the execution of a program that disrupts the normal flow of instructions.\n",
    "    #Syntax errors, on the other hand, occur when the code violates the syntax rules of Python. \n",
    "    \n",
    "    #Exceptions are runtime errors that can be caught and handled by the programmer, \n",
    "    #while Syntax errors are errors in the code that prevent the program from running in the first place.\n"
   ]
  },
  {
   "cell_type": "markdown",
   "id": "c8e8aae6-2284-40fe-8e98-c7157f61708c",
   "metadata": {},
   "source": [
    "Q2. What happens when an exception is not handled? Explain with an example."
   ]
  },
  {
   "cell_type": "code",
   "execution_count": 2,
   "id": "89c93c0d-2748-45bd-9aa2-448752ddbfab",
   "metadata": {},
   "outputs": [
    {
     "ename": "ZeroDivisionError",
     "evalue": "division by zero",
     "output_type": "error",
     "traceback": [
      "\u001b[0;31m---------------------------------------------------------------------------\u001b[0m",
      "\u001b[0;31mZeroDivisionError\u001b[0m                         Traceback (most recent call last)",
      "Cell \u001b[0;32mIn[2], line 8\u001b[0m\n\u001b[1;32m      6\u001b[0m a \u001b[38;5;241m=\u001b[39m \u001b[38;5;241m10\u001b[39m\n\u001b[1;32m      7\u001b[0m b \u001b[38;5;241m=\u001b[39m \u001b[38;5;241m0\u001b[39m\n\u001b[0;32m----> 8\u001b[0m c \u001b[38;5;241m=\u001b[39m \u001b[43ma\u001b[49m\u001b[38;5;241;43m/\u001b[39;49m\u001b[43mb\u001b[49m\n\u001b[1;32m      9\u001b[0m \u001b[38;5;28mprint\u001b[39m(c)\n",
      "\u001b[0;31mZeroDivisionError\u001b[0m: division by zero"
     ]
    }
   ],
   "source": [
    "# Answer:\n",
    " #When an exception is not handled in a Python program, the program terminates abruptly with an error message. \n",
    " #This error message shows the type of exception that occurred and the line number where the exception occurred.\n",
    "\n",
    "# Example\n",
    "a = 10\n",
    "b = 0\n",
    "c = a/b\n",
    "print(c)"
   ]
  },
  {
   "cell_type": "markdown",
   "id": "b0f2c542-0c49-45f3-ab8d-514a07a16691",
   "metadata": {},
   "source": [
    "Q3. which python statements are used to catch and handle exceptions? Explain with an example."
   ]
  },
  {
   "cell_type": "code",
   "execution_count": 3,
   "id": "28fa2e4d-57b4-41eb-8c01-377e492244ae",
   "metadata": {},
   "outputs": [
    {
     "name": "stdout",
     "output_type": "stream",
     "text": [
      "Cannot divide by zero\n"
     ]
    }
   ],
   "source": [
    "# Answer:\n",
    "\n",
    "# In Python, the 'try' and 'except' statements are used to catch and handle exceptions\n",
    "\n",
    "a = 10\n",
    "b = 0\n",
    "try:\n",
    "    c = a/b\n",
    "    print(c)\n",
    "except ZeroDivisionError:\n",
    "    print(\"Cannot divide by zero\")\n"
   ]
  },
  {
   "cell_type": "markdown",
   "id": "db6556e3-3e46-4fae-b73e-8a8fd12e3f3b",
   "metadata": {},
   "source": [
    "Q4. Explain with an example:\n",
    "    \n",
    "    a. try and else\n",
    "    b. finally\n",
    "    c. raise"
   ]
  },
  {
   "cell_type": "code",
   "execution_count": 2,
   "id": "b2a0ebd9-2ccc-4437-aa38-30c65602ae6d",
   "metadata": {},
   "outputs": [
    {
     "name": "stdin",
     "output_type": "stream",
     "text": [
      "Enter a number:  45\n",
      "Enter another number:  5\n"
     ]
    },
    {
     "name": "stdout",
     "output_type": "stream",
     "text": [
      "The result is: 9.0\n",
      "File closed\n"
     ]
    },
    {
     "name": "stdin",
     "output_type": "stream",
     "text": [
      "Enter your age:  21\n"
     ]
    },
    {
     "name": "stdout",
     "output_type": "stream",
     "text": [
      "You are eligible to vote\n"
     ]
    }
   ],
   "source": [
    "# a. try and else:\n",
    "'''The try and else statements are used together in Python to handle exceptions that may occur in the try block, \n",
    "while also running a block of code that needs to execute regardless of whether an exception was raised or not.'''\n",
    "\n",
    "#Example:\n",
    "try:\n",
    "    num1 = int(input(\"Enter a number: \"))\n",
    "    num2 = int(input(\"Enter another number: \"))\n",
    "    result = num1 / num2\n",
    "except ZeroDivisionError:\n",
    "    print(\"Error: Cannot divide by zero\")\n",
    "else:\n",
    "    print(\"The result is:\", result)\n",
    "\n",
    "# b. finally:\n",
    "'''The finally statement in Python is used to specify a block of code that will be executed regardless of whether an exception was raised or not.'''\n",
    "\n",
    "#Example:\n",
    "\n",
    "file = open(\"test.txt\", \"w\")\n",
    "file.write(\"Hello World\")\n",
    "file.close()\n",
    "\n",
    "try:\n",
    "    file = open(\"test.txt\", \"r\")\n",
    "    # some code to read the file\n",
    "except:\n",
    "    print(\"Error: File not found\")\n",
    "finally:\n",
    "    file.close()\n",
    "    print(\"File closed\")\n",
    "\n",
    "    \n",
    "# c. raise:\n",
    "'''The raise keyword is used to raise an exception manually in Python.\n",
    " This is useful when we want to handle certain cases differently from the built-in exceptions, or when we want to create our own custom exceptions.'''\n",
    " \n",
    "#Example:\n",
    "age = int(input(\"Enter your age: \"))\n",
    "if age < 18:\n",
    "    raise ValueError(\"Age must be greater than or equal to 18\")\n",
    "else:\n",
    "    print(\"You are eligible to vote\")\n"
   ]
  },
  {
   "cell_type": "markdown",
   "id": "93de9b2e-9d4d-4462-b58c-aa5e2cd9cfd8",
   "metadata": {},
   "source": [
    "Q5. what are custom Exceptions in python? Why do we need custom Exceptions? Explain with an example."
   ]
  },
  {
   "cell_type": "code",
   "execution_count": 3,
   "id": "582e5310-54cd-453e-ae48-de566632883a",
   "metadata": {},
   "outputs": [
    {
     "name": "stdout",
     "output_type": "stream",
     "text": [
      "Insufficient balance: Available balance is 1000, but you tried to withdraw 2000\n"
     ]
    }
   ],
   "source": [
    "#Answer:\n",
    "'''In Python, Custom Exceptions are user-defined exceptions that can be raised like built-in \n",
    "exceptions to indicate exceptional conditions or errors that occur while executing a Python program.'''\n",
    "\n",
    "'''Custom Exceptions can be useful in cases where built-in exceptions do not provide sufficient information about the error or \n",
    "when the programmer wants to define an exception specific to their application.'''\n",
    "\n",
    "class InsufficientBalanceError(Exception):\n",
    "    def __init__(self, balance, amount):\n",
    "        self.balance = balance\n",
    "        self.amount = amount\n",
    "        self.message = f\"Insufficient balance: Available balance is {balance}, but you tried to withdraw {amount}\"\n",
    "\n",
    "try:\n",
    "    balance = 1000\n",
    "    amount = 2000\n",
    "    if balance < amount:\n",
    "        raise InsufficientBalanceError(balance, amount)\n",
    "    else:\n",
    "        balance -= amount\n",
    "except InsufficientBalanceError as e:\n",
    "    print(e.message)\n"
   ]
  },
  {
   "cell_type": "markdown",
   "id": "1896912d-f700-4548-9d67-de6b7d777aa8",
   "metadata": {},
   "source": [
    "Q6. Create a custom exception class. Use this class to handle an exception."
   ]
  },
  {
   "cell_type": "code",
   "execution_count": 4,
   "id": "3aa55ee4-28cf-43f9-88ad-8092512585ba",
   "metadata": {},
   "outputs": [
    {
     "name": "stdout",
     "output_type": "stream",
     "text": [
      "Caught a custom exception: This is a custom exception\n"
     ]
    }
   ],
   "source": [
    "# define a custom exception class\n",
    "\n",
    "class CustomException(Exception):\n",
    "    pass\n",
    "\n",
    "# use the custom exception class to handle an exception\n",
    "try:\n",
    "    raise CustomException(\"This is a custom exception\")\n",
    "except CustomException as e:\n",
    "    print(\"Caught a custom exception:\", e)\n"
   ]
  },
  {
   "cell_type": "code",
   "execution_count": null,
   "id": "64c6ab1e-bb33-4ce0-82a3-297964c9ab14",
   "metadata": {},
   "outputs": [],
   "source": []
  },
  {
   "cell_type": "code",
   "execution_count": null,
   "id": "f8e4e0a9-4e5e-4282-9aa8-abc2e63360ee",
   "metadata": {},
   "outputs": [],
   "source": []
  }
 ],
 "metadata": {
  "kernelspec": {
   "display_name": "Python 3 (ipykernel)",
   "language": "python",
   "name": "python3"
  },
  "language_info": {
   "codemirror_mode": {
    "name": "ipython",
    "version": 3
   },
   "file_extension": ".py",
   "mimetype": "text/x-python",
   "name": "python",
   "nbconvert_exporter": "python",
   "pygments_lexer": "ipython3",
   "version": "3.10.8"
  }
 },
 "nbformat": 4,
 "nbformat_minor": 5
}
